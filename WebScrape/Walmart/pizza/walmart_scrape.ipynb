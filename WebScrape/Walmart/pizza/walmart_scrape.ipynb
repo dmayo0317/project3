{
 "cells": [
  {
   "cell_type": "code",
   "execution_count": 1,
   "metadata": {},
   "outputs": [],
   "source": [
    "import os\n",
    "from bs4 import BeautifulSoup as bs\n",
    "import urllib\n",
    "import pandas as pd\n",
    "import json"
   ]
  },
  {
   "cell_type": "markdown",
   "metadata": {},
   "source": [
    "# Pizza Page One"
   ]
  },
  {
   "cell_type": "code",
   "execution_count": 3,
   "metadata": {},
   "outputs": [],
   "source": [
    "url = urllib.request.urlopen('file:///C:/Users/willt/OneDrive/Desktop/project3/WebScrape/Walmart/walmart_pizza.html')\n",
    "soup = bs(url)"
   ]
  },
  {
   "cell_type": "code",
   "execution_count": 22,
   "metadata": {
    "scrolled": true
   },
   "outputs": [
    {
     "name": "stdout",
     "output_type": "stream",
     "text": [
      "-------------\n",
      "California Pizza Kitchen BBQ Recipe Chicken Crispy Thin Crust Frozen Pizza 14.7 oz.\n",
      "$6.14\n",
      "-------------\n",
      "Tombstone Pepperoni Frozen Pizza 19.3 oz.\n",
      "$3.87\n",
      "-------------\n",
      "DIGIORNO Pepperoni Frozen Pizza on a Rising Crust 27.5 oz.\n",
      "$5.27\n",
      "-------------\n",
      "Great Value Rising Crust Pizza, Pepperoni, 26.6 oz\n",
      "$2.78\n",
      "-------------\n",
      "Totino's Pepperoni Party Pizza Pack! Frozen Pizza, 4 count\n",
      "$5.13\n",
      "-------------\n",
      "Red Baron Classic Crust Pepperoni Pizza, 20.60 oz\n",
      "$3.98\n",
      "-------------\n",
      "Jack's Original Thin Crust Pepperoni Frozen Pizza 14.392 oz.\n",
      "$2.98\n",
      "-------------\n",
      "DIGIORNO Four Cheese Frozen Pizza on a Rising Crust 28.2 oz.\n",
      "$5.27\n",
      "-------------\n",
      "Great Value Rising Crust Three Meat Pizza, 28.8 oz (Frozen)\n",
      "$2.78\n",
      "-------------\n",
      "Red Baron Pizza, Classic Crust Four Meat, 21.95 oz\n",
      "$3.98\n"
     ]
    }
   ],
   "source": [
    "results = soup.find_all('div', class_='h-100 pb1-xl pr4-xl pv1 ph1')\n",
    "\n",
    "\n",
    "class items: \n",
    "  def __init__(self, brand, price):\n",
    "    self.brand = brand\n",
    "    self.price = price\n",
    "\n",
    "#lists for brands and items\n",
    "item_list = []\n",
    "brand = []\n",
    "\n",
    "\n",
    "for result in results:\n",
    "    # Error handling\n",
    "    try:\n",
    "        # Identify and return title of listing\n",
    "        price = result.find('div', class_='b black f5 mr1 mr2-xl lh-copy f4-l').text   \n",
    "        brand = result.find('span', class_='f6 f5-l normal dark-gray mb0 mt1 lh-title').text\n",
    "\n",
    "        \n",
    "        if (brand and price):\n",
    "            new_dict = {\n",
    "                       'brand': brand,\n",
    "                       'price': price\n",
    "                       }\n",
    "            print('-------------')\n",
    "            print(brand)\n",
    "            print(price)\n",
    "    except AttributeError as e:\n",
    "        print(e)\n",
    "\n",
    "  # appending instances to list \n",
    "    item_list.append( new_dict)\n",
    "    brands.append(brand)"
   ]
  },
  {
   "cell_type": "code",
   "execution_count": 35,
   "metadata": {
    "scrolled": true
   },
   "outputs": [],
   "source": [
    "full_pizza_one = {\"brands\": brands,\n",
    "                \"metadata\": item_list}"
   ]
  },
  {
   "cell_type": "markdown",
   "metadata": {},
   "source": [
    "# Pizza Page Two"
   ]
  },
  {
   "cell_type": "code",
   "execution_count": 27,
   "metadata": {},
   "outputs": [],
   "source": [
    "url = urllib.request.urlopen('file:///C:/Users/willt/OneDrive/Desktop/project3/WebScrape/Walmart/pizza_two.html')\n",
    "soup = bs(url)"
   ]
  },
  {
   "cell_type": "code",
   "execution_count": 29,
   "metadata": {},
   "outputs": [
    {
     "name": "stdout",
     "output_type": "stream",
     "text": [
      "-------------\n",
      "DIGIORNO Three Meat Frozen Pizza on a Stuffed Crust 24.5 oz.\n",
      "$7.78\n",
      "-------------\n",
      "DIGIORNO Three Meat Frozen Pizza on a Croissant Crust 26.4 oz.\n",
      "$5.78\n",
      "-------------\n",
      "Totino's Hamburger Original Crisp Crust Party Pizza, 1 Frozen Pizza\n",
      "$1.30\n",
      "-------------\n",
      "MorningStar Farms Plant Based Vegan Meatless Original Chicken Strips, 13.5oz, 54 CT Resealable Bag (Frozen)\n",
      "$5.98\n",
      "-------------\n",
      "Great Value Thin Crust Four Cheese Pizza, 15.55 Oz (Frozen)\n",
      "$2.80\n",
      "-------------\n",
      "DIGIORNO Pepperoni Frozen Pizza on an Original Thin Crust 22.1 oz.\n",
      "$5.27\n",
      "-------------\n",
      "Totino's Triple Meat Party Pizza Pack! Frozen Pizza, 4 Count\n",
      "$5.13\n",
      "-------------\n",
      "Great Value Thin Crust Pepperoni Pizza, 16.35 oz\n",
      "$2.80\n",
      "-------------\n",
      "Red Baron Brick Oven Crust Supreme Pizza, 18.64 oz\n",
      "$4.26\n",
      "-------------\n",
      "Sam's Choice Frozen Stuffed Crust Seven Cheese Pizza, 33.6 Oz\n",
      "$5.98\n"
     ]
    }
   ],
   "source": [
    "results = soup.find_all('div', class_='h-100 pb1-xl pr4-xl pv1 ph1')\n",
    "\n",
    "\n",
    "class items: \n",
    "  def __init__(self, brand, price):\n",
    "    self.brand = brand\n",
    "    self.price = price\n",
    "\n",
    "#lists for brands and items\n",
    "item_list = []\n",
    "brand = []\n",
    "\n",
    "\n",
    "for result in results:\n",
    "    # Error handling\n",
    "    try:\n",
    "        # Identify and return title of listing\n",
    "        price = result.find('div', class_='b black f5 mr1 mr2-xl lh-copy f4-l').text   \n",
    "        brand = result.find('span', class_='f6 f5-l normal dark-gray mb0 mt1 lh-title').text\n",
    "\n",
    "        \n",
    "        if (brand and price):\n",
    "            new_dict = {\n",
    "                       'brand': brand,\n",
    "                       'price': price\n",
    "                       }\n",
    "            print('-------------')\n",
    "            print(brand)\n",
    "            print(price)\n",
    "    except AttributeError as e:\n",
    "        print(e)\n",
    "\n",
    "  # appending instances to list \n",
    "    item_list.append( new_dict)\n",
    "    brands.append(brand)"
   ]
  },
  {
   "cell_type": "code",
   "execution_count": 34,
   "metadata": {},
   "outputs": [],
   "source": [
    "full_pizza_two = {\"brands\": brands,\n",
    "                \"metadata\": item_list}"
   ]
  },
  {
   "cell_type": "markdown",
   "metadata": {},
   "source": [
    "# Pizza Page Three"
   ]
  },
  {
   "cell_type": "code",
   "execution_count": null,
   "metadata": {},
   "outputs": [],
   "source": [
    "url = urllib.request.urlopen('')\n",
    "soup = bs(url)"
   ]
  },
  {
   "cell_type": "code",
   "execution_count": null,
   "metadata": {},
   "outputs": [],
   "source": [
    "print(soup)"
   ]
  },
  {
   "cell_type": "code",
   "execution_count": null,
   "metadata": {},
   "outputs": [],
   "source": [
    "results = soup.find_all('div', class_='h-100 pb1-xl pr4-xl pv1 ph1')\n",
    "\n",
    "\n",
    "class items: \n",
    "  def __init__(self, brand, price):\n",
    "    self.brand = brand\n",
    "    self.price = price\n",
    "\n",
    "#lists for brands and items\n",
    "item_list = []\n",
    "brand = []\n",
    "\n",
    "\n",
    "for result in results:\n",
    "    # Error handling\n",
    "    try:\n",
    "        # Identify and return title of listing\n",
    "        price = result.find('div', class_='b black f5 mr1 mr2-xl lh-copy f4-l').text   \n",
    "        brand = result.find('span', class_='f6 f5-l normal dark-gray mb0 mt1 lh-title').text\n",
    "\n",
    "        \n",
    "        if (brand and price):\n",
    "            new_dict = {\n",
    "                       'brand': brand,\n",
    "                       'price': price\n",
    "                       }\n",
    "            print('-------------')\n",
    "            print(brand)\n",
    "            print(price)\n",
    "    except AttributeError as e:\n",
    "        print(e)\n",
    "\n",
    "  # appending instances to list \n",
    "    item_list.append( new_dict)\n",
    "    brands.append(brand)"
   ]
  },
  {
   "cell_type": "code",
   "execution_count": null,
   "metadata": {},
   "outputs": [],
   "source": [
    "full_pizza_three = {\"brands\": brands,\n",
    "                \"metadata\": item_list}\n",
    "\n",
    "print(full_pizza_three)"
   ]
  },
  {
   "cell_type": "code",
   "execution_count": null,
   "metadata": {},
   "outputs": [],
   "source": []
  },
  {
   "cell_type": "code",
   "execution_count": null,
   "metadata": {},
   "outputs": [],
   "source": []
  },
  {
   "cell_type": "code",
   "execution_count": null,
   "metadata": {},
   "outputs": [],
   "source": []
  },
  {
   "cell_type": "code",
   "execution_count": 33,
   "metadata": {},
   "outputs": [
    {
     "ename": "TypeError",
     "evalue": "dump() takes 2 positional arguments but 3 were given",
     "output_type": "error",
     "traceback": [
      "\u001b[1;31m---------------------------------------------------------------------------\u001b[0m",
      "\u001b[1;31mTypeError\u001b[0m                                 Traceback (most recent call last)",
      "\u001b[1;32m<ipython-input-33-f5ea5b6f232a>\u001b[0m in \u001b[0;36m<module>\u001b[1;34m\u001b[0m\n\u001b[0;32m      1\u001b[0m \u001b[1;32mwith\u001b[0m \u001b[0mopen\u001b[0m\u001b[1;33m(\u001b[0m\u001b[1;34m'pizza.json'\u001b[0m\u001b[1;33m,\u001b[0m \u001b[1;34m'w'\u001b[0m\u001b[1;33m)\u001b[0m \u001b[1;32mas\u001b[0m \u001b[0mfp\u001b[0m\u001b[1;33m:\u001b[0m\u001b[1;33m\u001b[0m\u001b[1;33m\u001b[0m\u001b[0m\n\u001b[1;32m----> 2\u001b[1;33m     \u001b[0mjson\u001b[0m\u001b[1;33m.\u001b[0m\u001b[0mdump\u001b[0m\u001b[1;33m(\u001b[0m\u001b[0mfull_pizza_one\u001b[0m\u001b[1;33m,\u001b[0m\u001b[0mfull_pizza_two\u001b[0m\u001b[1;33m,\u001b[0m \u001b[0mfp\u001b[0m\u001b[1;33m)\u001b[0m\u001b[1;33m\u001b[0m\u001b[1;33m\u001b[0m\u001b[0m\n\u001b[0m",
      "\u001b[1;31mTypeError\u001b[0m: dump() takes 2 positional arguments but 3 were given"
     ]
    }
   ],
   "source": [
    "with open('pizza.json', 'w') as fp:\n",
    "    json.dump(full_pizza, fp)"
   ]
  },
  {
   "cell_type": "code",
   "execution_count": null,
   "metadata": {},
   "outputs": [],
   "source": []
  }
 ],
 "metadata": {
  "kernelspec": {
   "display_name": "Python [conda env:PythonData] *",
   "language": "python",
   "name": "conda-env-PythonData-py"
  },
  "language_info": {
   "codemirror_mode": {
    "name": "ipython",
    "version": 3
   },
   "file_extension": ".py",
   "mimetype": "text/x-python",
   "name": "python",
   "nbconvert_exporter": "python",
   "pygments_lexer": "ipython3",
   "version": "3.6.10"
  }
 },
 "nbformat": 4,
 "nbformat_minor": 4
}
